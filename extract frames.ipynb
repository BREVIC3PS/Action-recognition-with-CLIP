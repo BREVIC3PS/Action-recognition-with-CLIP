{
 "cells": [
  {
   "cell_type": "code",
   "execution_count": 1,
   "id": "d0642e4c",
   "metadata": {},
   "outputs": [
    {
     "name": "stdout",
     "output_type": "stream",
     "text": [
      "[Warning] length inconsistent!Early stop with 106 out of 106 frames\n",
      "rope_climb_Olivia_Age_4_climb_f_cm_np1_ba_med_1 done with 106 frames\n",
      "all done\n"
     ]
    }
   ],
   "source": [
    "from pathlib import Path\n",
    "import cv2\n",
    "import glob\n",
    "import mmcv\n",
    "#设置视频存取路径\n",
    "vid_path=\"action_data/videos\"\n",
    "out_full_path=\"action_data/photos_test\"\n",
    "#读取所有avi格式的视频文件\n",
    "vid_list = glob.glob(vid_path+'/*.'+\"avi\")\n",
    "#帧数\n",
    "cnt=1\n",
    "for j in vid_list:\n",
    "    #读取视频\n",
    "    vr = mmcv.VideoReader(j)\n",
    "    vid_name = j.split('/')[-1].split('\\\\')[-1].split('.')[0]\n",
    "    vid_type= vid_name.split(\"_\")[-7]\n",
    "    for i in range(0,len(vr),3):#隔3帧采样一帧\n",
    "        if vr[i] is not None:\n",
    "            mmcv.imwrite(\n",
    "                #写入文件\n",
    "                vr[i], '{}/{}_{}_{:05d}_{}.jpg'.format(out_full_path,vid_type,cnt,i,len(vr) ))\n",
    "            #print(vr[i])\n",
    "        else:\n",
    "            print('[Warning] length inconsistent!'\n",
    "                  'Early stop with {} out of {} frames'.format(i + 1, len(vr)))\n",
    "            break\n",
    "    print('{} done with {} frames'.format(vid_name, len(vr)))\n",
    "    cnt+=1\n",
    "print(\"all done\")"
   ]
  }
 ],
 "metadata": {
  "kernelspec": {
   "display_name": "Python 3",
   "language": "python",
   "name": "python3"
  },
  "language_info": {
   "codemirror_mode": {
    "name": "ipython",
    "version": 3
   },
   "file_extension": ".py",
   "mimetype": "text/x-python",
   "name": "python",
   "nbconvert_exporter": "python",
   "pygments_lexer": "ipython3",
   "version": "3.8.8"
  }
 },
 "nbformat": 4,
 "nbformat_minor": 5
}
